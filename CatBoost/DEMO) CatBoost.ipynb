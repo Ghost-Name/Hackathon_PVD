{
 "cells": [
  {
   "cell_type": "raw",
   "id": "f0229d1e-371e-445a-a8c4-6af2e70b3975",
   "metadata": {
    "collapsed": true,
    "jupyter": {
     "outputs_hidden": true
    }
   },
   "source": [
    "!pip install catboost"
   ]
  },
  {
   "cell_type": "markdown",
   "id": "1fc69438-aa5d-4174-9a89-4335de4a39b5",
   "metadata": {},
   "source": [
    "# CatBoost"
   ]
  },
  {
   "cell_type": "markdown",
   "id": "b142098e-cac7-4929-b556-ca20cbfa0f72",
   "metadata": {},
   "source": [
    "# Статьи:\n",
    "\n",
    "https://habr.com/ru/articles/594077/\n",
    "\n",
    "https://habr.com/ru/companies/otus/articles/778714/\n",
    "\n",
    "# Документация:\n",
    "https://catboost.ai/en/docs/concepts/python-reference_catboost_fit"
   ]
  },
  {
   "cell_type": "markdown",
   "id": "4dd94c9c-52a2-4c95-b127-caada71eb775",
   "metadata": {},
   "source": [
    "# Импорт data"
   ]
  },
  {
   "cell_type": "code",
   "execution_count": 1,
   "id": "9edc506e-2966-4fb5-a4b8-b10ea6502090",
   "metadata": {},
   "outputs": [],
   "source": [
    "import pandas as pd\n",
    "from sklearn.preprocessing import LabelEncoder, StandardScaler\n",
    "import numpy as np"
   ]
  },
  {
   "cell_type": "raw",
   "id": "95e628fe-8fba-4c1a-8d7a-2828e08dedfe",
   "metadata": {},
   "source": [
    "data = pd.read_excel(r'Sample_20_people\\train20_data.xlsx')\n",
    "df = pd.DataFrame(data)"
   ]
  },
  {
   "cell_type": "raw",
   "id": "06dbadc3-9ecd-4dcd-9d99-a686b61a7555",
   "metadata": {},
   "source": [
    "df.head().style"
   ]
  },
  {
   "cell_type": "code",
   "execution_count": 2,
   "id": "93706781-661a-4150-a09d-8e94784f3e46",
   "metadata": {},
   "outputs": [],
   "source": [
    "train_df = pd.read_excel('train.xlsx')\n",
    "test_df = pd.read_excel('test.xlsx')"
   ]
  },
  {
   "cell_type": "code",
   "execution_count": 3,
   "id": "5b2e9267-3296-4924-9da4-8430d71562e5",
   "metadata": {},
   "outputs": [
    {
     "data": {
      "text/html": [
       "<style type=\"text/css\">\n",
       "</style>\n",
       "<table id=\"T_69634\">\n",
       "  <thead>\n",
       "    <tr>\n",
       "      <th class=\"blank level0\" >&nbsp;</th>\n",
       "      <th id=\"T_69634_level0_col0\" class=\"col_heading level0 col0\" >ID</th>\n",
       "      <th id=\"T_69634_level0_col1\" class=\"col_heading level0 col1\" >Находится в реестре МСП</th>\n",
       "      <th id=\"T_69634_level0_col2\" class=\"col_heading level0 col2\" >Размер уставного капитала объявленный</th>\n",
       "      <th id=\"T_69634_level0_col3\" class=\"col_heading level0 col3\" >Численность персонала по данным ФНС.Количество</th>\n",
       "      <th id=\"T_69634_level0_col4\" class=\"col_heading level0 col4\" >Карточка клиента (внешний источник).Индекс платежной дисциплины Значение</th>\n",
       "      <th id=\"T_69634_level0_col5\" class=\"col_heading level0 col5\" >Карточка клиента (внешний источник).Индекс финансового риска Значение</th>\n",
       "      <th id=\"T_69634_level0_col6\" class=\"col_heading level0 col6\" >Провозная плата (период 1)</th>\n",
       "      <th id=\"T_69634_level0_col7\" class=\"col_heading level0 col7\" >Провозная плата (период 2)</th>\n",
       "      <th id=\"T_69634_level0_col8\" class=\"col_heading level0 col8\" >Объем перевозок(тн) (период 1)</th>\n",
       "      <th id=\"T_69634_level0_col9\" class=\"col_heading level0 col9\" >Объем перевозок(тн) (период 2)</th>\n",
       "      <th id=\"T_69634_level0_col10\" class=\"col_heading level0 col10\" >positive_action</th>\n",
       "      <th id=\"T_69634_level0_col11\" class=\"col_heading level0 col11\" >Devotion</th>\n",
       "      <th id=\"T_69634_level0_col12\" class=\"col_heading level0 col12\" >Churn</th>\n",
       "    </tr>\n",
       "  </thead>\n",
       "  <tbody>\n",
       "    <tr>\n",
       "      <th id=\"T_69634_level0_row0\" class=\"row_heading level0 row0\" >0</th>\n",
       "      <td id=\"T_69634_row0_col0\" class=\"data row0 col0\" >9</td>\n",
       "      <td id=\"T_69634_row0_col1\" class=\"data row0 col1\" >0</td>\n",
       "      <td id=\"T_69634_row0_col2\" class=\"data row0 col2\" >0</td>\n",
       "      <td id=\"T_69634_row0_col3\" class=\"data row0 col3\" >18</td>\n",
       "      <td id=\"T_69634_row0_col4\" class=\"data row0 col4\" >0</td>\n",
       "      <td id=\"T_69634_row0_col5\" class=\"data row0 col5\" >27</td>\n",
       "      <td id=\"T_69634_row0_col6\" class=\"data row0 col6\" >0</td>\n",
       "      <td id=\"T_69634_row0_col7\" class=\"data row0 col7\" >168141</td>\n",
       "      <td id=\"T_69634_row0_col8\" class=\"data row0 col8\" >0</td>\n",
       "      <td id=\"T_69634_row0_col9\" class=\"data row0 col9\" >50</td>\n",
       "      <td id=\"T_69634_row0_col10\" class=\"data row0 col10\" >1</td>\n",
       "      <td id=\"T_69634_row0_col11\" class=\"data row0 col11\" >1.000000</td>\n",
       "      <td id=\"T_69634_row0_col12\" class=\"data row0 col12\" >0</td>\n",
       "    </tr>\n",
       "    <tr>\n",
       "      <th id=\"T_69634_level0_row1\" class=\"row_heading level0 row1\" >1</th>\n",
       "      <td id=\"T_69634_row1_col0\" class=\"data row1 col0\" >25</td>\n",
       "      <td id=\"T_69634_row1_col1\" class=\"data row1 col1\" >0</td>\n",
       "      <td id=\"T_69634_row1_col2\" class=\"data row1 col2\" >0</td>\n",
       "      <td id=\"T_69634_row1_col3\" class=\"data row1 col3\" >361</td>\n",
       "      <td id=\"T_69634_row1_col4\" class=\"data row1 col4\" >0</td>\n",
       "      <td id=\"T_69634_row1_col5\" class=\"data row1 col5\" >25</td>\n",
       "      <td id=\"T_69634_row1_col6\" class=\"data row1 col6\" >12754399</td>\n",
       "      <td id=\"T_69634_row1_col7\" class=\"data row1 col7\" >18211112</td>\n",
       "      <td id=\"T_69634_row1_col8\" class=\"data row1 col8\" >31095</td>\n",
       "      <td id=\"T_69634_row1_col9\" class=\"data row1 col9\" >34923</td>\n",
       "      <td id=\"T_69634_row1_col10\" class=\"data row1 col10\" >0</td>\n",
       "      <td id=\"T_69634_row1_col11\" class=\"data row1 col11\" >1.000000</td>\n",
       "      <td id=\"T_69634_row1_col12\" class=\"data row1 col12\" >0</td>\n",
       "    </tr>\n",
       "    <tr>\n",
       "      <th id=\"T_69634_level0_row2\" class=\"row_heading level0 row2\" >2</th>\n",
       "      <td id=\"T_69634_row2_col0\" class=\"data row2 col0\" >33</td>\n",
       "      <td id=\"T_69634_row2_col1\" class=\"data row2 col1\" >0</td>\n",
       "      <td id=\"T_69634_row2_col2\" class=\"data row2 col2\" >443485350</td>\n",
       "      <td id=\"T_69634_row2_col3\" class=\"data row2 col3\" >1987</td>\n",
       "      <td id=\"T_69634_row2_col4\" class=\"data row2 col4\" >84</td>\n",
       "      <td id=\"T_69634_row2_col5\" class=\"data row2 col5\" >21</td>\n",
       "      <td id=\"T_69634_row2_col6\" class=\"data row2 col6\" >80731499</td>\n",
       "      <td id=\"T_69634_row2_col7\" class=\"data row2 col7\" >105789052</td>\n",
       "      <td id=\"T_69634_row2_col8\" class=\"data row2 col8\" >28510</td>\n",
       "      <td id=\"T_69634_row2_col9\" class=\"data row2 col9\" >31213</td>\n",
       "      <td id=\"T_69634_row2_col10\" class=\"data row2 col10\" >0</td>\n",
       "      <td id=\"T_69634_row2_col11\" class=\"data row2 col11\" >48.991020</td>\n",
       "      <td id=\"T_69634_row2_col12\" class=\"data row2 col12\" >1</td>\n",
       "    </tr>\n",
       "    <tr>\n",
       "      <th id=\"T_69634_level0_row3\" class=\"row_heading level0 row3\" >3</th>\n",
       "      <td id=\"T_69634_row3_col0\" class=\"data row3 col0\" >86</td>\n",
       "      <td id=\"T_69634_row3_col1\" class=\"data row3 col1\" >0</td>\n",
       "      <td id=\"T_69634_row3_col2\" class=\"data row3 col2\" >0</td>\n",
       "      <td id=\"T_69634_row3_col3\" class=\"data row3 col3\" >0</td>\n",
       "      <td id=\"T_69634_row3_col4\" class=\"data row3 col4\" >0</td>\n",
       "      <td id=\"T_69634_row3_col5\" class=\"data row3 col5\" >0</td>\n",
       "      <td id=\"T_69634_row3_col6\" class=\"data row3 col6\" >0</td>\n",
       "      <td id=\"T_69634_row3_col7\" class=\"data row3 col7\" >0</td>\n",
       "      <td id=\"T_69634_row3_col8\" class=\"data row3 col8\" >0</td>\n",
       "      <td id=\"T_69634_row3_col9\" class=\"data row3 col9\" >0</td>\n",
       "      <td id=\"T_69634_row3_col10\" class=\"data row3 col10\" >0</td>\n",
       "      <td id=\"T_69634_row3_col11\" class=\"data row3 col11\" >1.000000</td>\n",
       "      <td id=\"T_69634_row3_col12\" class=\"data row3 col12\" >0</td>\n",
       "    </tr>\n",
       "    <tr>\n",
       "      <th id=\"T_69634_level0_row4\" class=\"row_heading level0 row4\" >4</th>\n",
       "      <td id=\"T_69634_row4_col0\" class=\"data row4 col0\" >115</td>\n",
       "      <td id=\"T_69634_row4_col1\" class=\"data row4 col1\" >0</td>\n",
       "      <td id=\"T_69634_row4_col2\" class=\"data row4 col2\" >20773333</td>\n",
       "      <td id=\"T_69634_row4_col3\" class=\"data row4 col3\" >1211</td>\n",
       "      <td id=\"T_69634_row4_col4\" class=\"data row4 col4\" >96</td>\n",
       "      <td id=\"T_69634_row4_col5\" class=\"data row4 col5\" >16</td>\n",
       "      <td id=\"T_69634_row4_col6\" class=\"data row4 col6\" >79490420</td>\n",
       "      <td id=\"T_69634_row4_col7\" class=\"data row4 col7\" >113617841</td>\n",
       "      <td id=\"T_69634_row4_col8\" class=\"data row4 col8\" >30340</td>\n",
       "      <td id=\"T_69634_row4_col9\" class=\"data row4 col9\" >41348</td>\n",
       "      <td id=\"T_69634_row4_col10\" class=\"data row4 col10\" >2</td>\n",
       "      <td id=\"T_69634_row4_col11\" class=\"data row4 col11\" >56.083486</td>\n",
       "      <td id=\"T_69634_row4_col12\" class=\"data row4 col12\" >1</td>\n",
       "    </tr>\n",
       "  </tbody>\n",
       "</table>\n"
      ],
      "text/plain": [
       "<pandas.io.formats.style.Styler at 0x23a985cb5b0>"
      ]
     },
     "execution_count": 3,
     "metadata": {},
     "output_type": "execute_result"
    }
   ],
   "source": [
    "train_df.head().style"
   ]
  },
  {
   "cell_type": "code",
   "execution_count": 4,
   "id": "c0c5c052-256e-42f4-9954-c18bc32119d8",
   "metadata": {},
   "outputs": [],
   "source": [
    "X = train_df.drop(\"Churn\", axis=1)\n",
    "y = train_df[\"Churn\"]"
   ]
  },
  {
   "cell_type": "code",
   "execution_count": 5,
   "id": "3d9cacea-9e1e-4d70-b332-10a15e26639d",
   "metadata": {},
   "outputs": [
    {
     "name": "stdout",
     "output_type": "stream",
     "text": [
      "[1, 2, 3, 4, 5, 6, 7, 8, 9, 10, 11, 12]\n"
     ]
    }
   ],
   "source": [
    "cat_features = list(range(1, 13)) #пропускает первое значение, т.к. ID не катигориальный признак (12 признаков из 13)\n",
    "print(cat_features)"
   ]
  },
  {
   "cell_type": "code",
   "execution_count": 6,
   "id": "171628ec-8df5-43a7-9ca0-6df6df5f59d1",
   "metadata": {},
   "outputs": [
    {
     "name": "stdout",
     "output_type": "stream",
     "text": [
      "Labels: {0, 1}\n",
      "Zero count: 190, One count: 62\n"
     ]
    }
   ],
   "source": [
    "print(f\"Labels: {set(y)}\")\n",
    "print(f\"Zero count: {len(y)-sum(y)}, One count: {sum(y)}\")"
   ]
  },
  {
   "cell_type": "code",
   "execution_count": 7,
   "id": "8be2eff8-8f39-45f8-9994-3fa50685bb8c",
   "metadata": {},
   "outputs": [],
   "source": [
    "# подготовка датасета\n",
    "train_df.to_csv(('train.tsv'), \n",
    "                index=False, sep='\\t', header=False)\n",
    "\n",
    "\n",
    "test_df.to_csv(('test.tsv'), \n",
    "              index=False, sep='\\t', header=False)\n",
    "\n",
    "\n",
    "train_df.to_csv(('train.csv'),\n",
    "                index=False, sep=',', header=True)\n",
    "\n",
    "\n",
    "test_df.to_csv(('test.csv'),\n",
    "              index=False, sep=',', header=True)"
   ]
  },
  {
   "cell_type": "code",
   "execution_count": 8,
   "id": "695975e8-aded-40fe-b81d-9b8543d52113",
   "metadata": {},
   "outputs": [],
   "source": [
    "from catboost.utils import create_cd\n",
    "\n",
    "feature_names = dict()\n",
    "\n",
    "for column, name in enumerate(train_df):\n",
    "    if column == 0:\n",
    "        continue\n",
    "    feature_names[column-1] = name\n",
    "    \n",
    "\n",
    "create_cd(\n",
    "    \n",
    "    cat_features=list(range(1, train_df.columns.shape[0])),\n",
    "    feature_names=feature_names,\n",
    "    output_path='train.cd'\n",
    ")"
   ]
  },
  {
   "cell_type": "code",
   "execution_count": 9,
   "id": "eb88a769-61bd-4fea-9b15-21e91ac10ee6",
   "metadata": {},
   "outputs": [
    {
     "ename": "NameError",
     "evalue": "name 'Pool' is not defined",
     "output_type": "error",
     "traceback": [
      "\u001b[1;31m---------------------------------------------------------------------------\u001b[0m",
      "\u001b[1;31mNameError\u001b[0m                                 Traceback (most recent call last)",
      "Cell \u001b[1;32mIn[9], line 1\u001b[0m\n\u001b[1;32m----> 1\u001b[0m pool1 \u001b[38;5;241m=\u001b[39m \u001b[43mPool\u001b[49m(data\u001b[38;5;241m=\u001b[39mX, label\u001b[38;5;241m=\u001b[39my, cat_features\u001b[38;5;241m=\u001b[39mcat_features)\n\u001b[0;32m      3\u001b[0m pool2 \u001b[38;5;241m=\u001b[39m Pool(\n\u001b[0;32m      4\u001b[0m     data\u001b[38;5;241m=\u001b[39mos\u001b[38;5;241m.\u001b[39mpath\u001b[38;5;241m.\u001b[39mjoin(dataset_dir, \u001b[38;5;124m'\u001b[39m\u001b[38;5;124mtrain.csv\u001b[39m\u001b[38;5;124m'\u001b[39m),\n\u001b[0;32m      5\u001b[0m     delimiter\u001b[38;5;241m=\u001b[39m\u001b[38;5;124m'\u001b[39m\u001b[38;5;124m,\u001b[39m\u001b[38;5;124m'\u001b[39m,\n\u001b[0;32m      6\u001b[0m     column_description\u001b[38;5;241m=\u001b[39mos\u001b[38;5;241m.\u001b[39mpath\u001b[38;5;241m.\u001b[39mjoin(dataset_dir, \u001b[38;5;124m'\u001b[39m\u001b[38;5;124mtrain.cd\u001b[39m\u001b[38;5;124m'\u001b[39m),\n\u001b[0;32m      7\u001b[0m     has_header\u001b[38;5;241m=\u001b[39m\u001b[38;5;28;01mTrue\u001b[39;00m\n\u001b[0;32m      8\u001b[0m )\n\u001b[0;32m     10\u001b[0m pool3 \u001b[38;5;241m=\u001b[39m Pool(data\u001b[38;5;241m=\u001b[39mX, cat_features\u001b[38;5;241m=\u001b[39mcat_features)\n",
      "\u001b[1;31mNameError\u001b[0m: name 'Pool' is not defined"
     ]
    }
   ],
   "source": [
    "pool1 = Pool(data=X, label=y, cat_features=cat_features)\n",
    "\n",
    "pool2 = Pool(\n",
    "    data=os.path.join(dataset_dir, 'train.csv'),\n",
    "    delimiter=',',\n",
    "    column_description=os.path.join(dataset_dir, 'train.cd'),\n",
    "    has_header=True\n",
    ")\n",
    "\n",
    "pool3 = Pool(data=X, cat_features=cat_features)\n",
    "\n",
    "X_prepared = X.values.astype(str).astype(object)\n",
    "\n",
    "pool4 = Pool(\n",
    "    data=FeaturesData(\n",
    "        cat_feature_data=X_prepared,\n",
    "        cat_feature_names=list(X)\n",
    "    ),\n",
    "    label=y.values\n",
    ")\n",
    "\n",
    "print(\"Dataset shape\")\n",
    "print(f\"Dataset 1: {str(pool1.shape)}\")\n",
    "print(f\"Dataset 2: {str(pool2.shape)}\")\n",
    "print(f\"Dataset 3: {str(pool3.shape)}\")\n",
    "print(f\"Dataset 4: {str(pool4.shape)}\")\n",
    "print()\n",
    "print(\"Column names\")\n",
    "print(f\"Dataset 1: {pool1.get_feature_names()}\")\n",
    "print(f\"Dataset 2: {pool2.get_feature_names()}\")\n",
    "print(f\"Dataset 3: {pool3.get_feature_names()}\")\n",
    "print(f\"Dataset 4: {pool4.get_feature_names()}\")"
   ]
  },
  {
   "cell_type": "code",
   "execution_count": null,
   "id": "e9617838-4e55-4834-8f20-a6e11ba0f3d1",
   "metadata": {},
   "outputs": [],
   "source": [
    "from sklearn.model_selection import train_test_split\n",
    "\n",
    "X_train, X_test, y_train, y_test = train_test_split(X, y, train_size=0.45, random_state=42)"
   ]
  },
  {
   "cell_type": "code",
   "execution_count": null,
   "id": "71652544-238b-40c2-9b1e-db7a384536e9",
   "metadata": {},
   "outputs": [],
   "source": [
    "from catboost import CatBoostClassifier\n",
    "\n",
    "model = CatBoostClassifier(\n",
    "    iterations=200,\n",
    "    learning_rate=0.15\n",
    ")"
   ]
  },
  {
   "cell_type": "code",
   "execution_count": null,
   "id": "9ca93ef5-46fe-47f4-8b8c-f59726bfb7ca",
   "metadata": {},
   "outputs": [],
   "source": [
    "model.fit(X_train, y_train,\n",
    "         cat_features=cat_features,\n",
    "         eval_set=(X_test, y_test),\n",
    "          verbose=False\n",
    ")\n",
    "\n",
    "print(f\"Model is fitted: {str(model.is_fitted())}\")\n",
    "print(f\"Model params: {model.get_params()}\")"
   ]
  },
  {
   "cell_type": "code",
   "execution_count": null,
   "id": "93b612f3-d90b-41aa-8fa4-ea9cdd09ad1e",
   "metadata": {},
   "outputs": [],
   "source": [
    "Model is fitted: True\n",
    "Model params: {'iterations': 200, 'learning_rate': 0.15}"
   ]
  },
  {
   "cell_type": "code",
   "execution_count": null,
   "id": "b80aa187-7cb5-4f88-8388-06a18e09ed86",
   "metadata": {},
   "outputs": [],
   "source": [
    "from catboost import CatBoostClassifier\n",
    "\n",
    "model = CatBoostClassifier(\n",
    "    iterations=200,\n",
    "    learning_rate=0.15\n",
    ")\n",
    "\n",
    "model.fit(X_train, y_train,\n",
    "         cat_features=cat_features,\n",
    "         eval_set=(X_test, y_test),\n",
    "         verbose=35\n",
    ")"
   ]
  },
  {
   "cell_type": "code",
   "execution_count": null,
   "id": "24b79d2e-874d-45d6-9cf6-e2ba3bb9449e",
   "metadata": {},
   "outputs": [],
   "source": [
    "from catboost import CatBoostClassifier\n",
    "\n",
    "model = CatBoostClassifier(\n",
    "    iterations=200,\n",
    "    random_seed=63,\n",
    "    learning_rate=0.15\n",
    "    custom_loss=['AUC', 'Accuracy']\n",
    ")\n",
    "\n",
    "model.fit(X_train, y_train,\n",
    "         cat_features=cat_features,\n",
    "         eval_set=(X_test, y_test),\n",
    "          verbose=False,\n",
    "          plot=True\n",
    ")"
   ]
  },
  {
   "cell_type": "code",
   "execution_count": null,
   "id": "ad9e5330-be89-413f-9df2-879ff521fd1d",
   "metadata": {},
   "outputs": [],
   "source": []
  },
  {
   "cell_type": "code",
   "execution_count": null,
   "id": "e09505d6-f41b-4c40-bb67-6d889d110e2a",
   "metadata": {},
   "outputs": [],
   "source": []
  },
  {
   "cell_type": "markdown",
   "id": "0f8d3f18-d9dc-4f5f-a3e5-9df68eab1510",
   "metadata": {},
   "source": [
    "# Нормализация Log Transformation"
   ]
  },
  {
   "cell_type": "code",
   "execution_count": 46,
   "id": "74d11b85-701d-4b2c-ae96-58519f6c82c4",
   "metadata": {},
   "outputs": [],
   "source": [
    "df[['Размер уставного капитала объявленный', 'Численность персонала по данным ФНС.Количество', \n",
    "    'Карточка клиента (внешний источник).Индекс платежной дисциплины Значение', \n",
    "    'Карточка клиента (внешний источник).Индекс финансового риска Значение',\n",
    "    'Провозная плата (период 1)', 'Провозная плата (период 2)',\n",
    "    'Объем перевозок(тн) (период 1)', 'Объем перевозок(тн) (период 2)',\n",
    "    'positive_action', 'Devotion' \n",
    "    ]] = np.log1p(df[['Размер уставного капитала объявленный', 'Численность персонала по данным ФНС.Количество', \n",
    "    'Карточка клиента (внешний источник).Индекс платежной дисциплины Значение', \n",
    "    'Карточка клиента (внешний источник).Индекс финансового риска Значение',\n",
    "    'Провозная плата (период 1)', 'Провозная плата (период 2)',\n",
    "    'Объем перевозок(тн) (период 1)', 'Объем перевозок(тн) (период 2)',\n",
    "    'positive_action', 'Devotion']])"
   ]
  },
  {
   "cell_type": "markdown",
   "id": "73f83135-27b3-48ca-abe5-d36f8ec39ead",
   "metadata": {},
   "source": [
    "# категории для обучения и предсказания"
   ]
  },
  {
   "cell_type": "code",
   "execution_count": 17,
   "id": "af55c430-6f25-42f4-b91e-4811dc20c7ca",
   "metadata": {},
   "outputs": [],
   "source": [
    "y = df['Devotion'] # используется параметр с плавающей точкой\n",
    "\n",
    "X = df[['Размер уставного капитала объявленный', 'Численность персонала по данным ФНС.Количество', \n",
    "    'Карточка клиента (внешний источник).Индекс платежной дисциплины Значение', \n",
    "    'Карточка клиента (внешний источник).Индекс финансового риска Значение',\n",
    "    'Провозная плата (период 1)', 'Провозная плата (период 2)',\n",
    "    'Объем перевозок(тн) (период 1)', 'Объем перевозок(тн) (период 2)',\n",
    "    'positive_action']]\n"
   ]
  },
  {
   "cell_type": "code",
   "execution_count": null,
   "id": "f24b5899-9a2d-475d-bce3-fb0aad47ae6a",
   "metadata": {},
   "outputs": [],
   "source": []
  },
  {
   "cell_type": "code",
   "execution_count": null,
   "id": "269700d6-919c-4ded-b75c-0ce51242bb29",
   "metadata": {},
   "outputs": [],
   "source": []
  },
  {
   "cell_type": "code",
   "execution_count": null,
   "id": "80ef9e79-1e1a-49d8-a882-5cf7b97edc65",
   "metadata": {},
   "outputs": [],
   "source": []
  },
  {
   "cell_type": "code",
   "execution_count": null,
   "id": "e2989091-0438-4abb-ab55-2036c9358cfc",
   "metadata": {},
   "outputs": [],
   "source": []
  }
 ],
 "metadata": {
  "kernelspec": {
   "display_name": "Python 3 (ipykernel)",
   "language": "python",
   "name": "python3"
  },
  "language_info": {
   "codemirror_mode": {
    "name": "ipython",
    "version": 3
   },
   "file_extension": ".py",
   "mimetype": "text/x-python",
   "name": "python",
   "nbconvert_exporter": "python",
   "pygments_lexer": "ipython3",
   "version": "3.10.0"
  }
 },
 "nbformat": 4,
 "nbformat_minor": 5
}
