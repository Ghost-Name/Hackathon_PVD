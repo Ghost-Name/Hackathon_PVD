{
 "cells": [
  {
   "cell_type": "markdown",
   "id": "c58e322f-67cd-469d-8dc5-f1ea22c5d2ee",
   "metadata": {},
   "source": [
    "# Чтение содержимого файлов"
   ]
  },
  {
   "cell_type": "code",
   "execution_count": 1,
   "id": "7d365e4d-65d3-4831-8008-cb6df865459a",
   "metadata": {},
   "outputs": [],
   "source": [
    "import pandas as pd"
   ]
  },
  {
   "cell_type": "markdown",
   "id": "ec913789-8bfe-4fa1-b42e-096a8776df0c",
   "metadata": {},
   "source": [
    "## МС_Владимирская область.xls"
   ]
  },
  {
   "cell_type": "code",
   "execution_count": 3,
   "id": "1961ef8a-8ad4-433a-9b76-4eb290057115",
   "metadata": {},
   "outputs": [
    {
     "name": "stdout",
     "output_type": "stream",
     "text": [
      "   ID Находится в реестре МСП Размер компании.Наименование  \\\n",
      "0   1                     Нет                          NaN   \n",
      "1   2                     Нет                          NaN   \n",
      "2   3                     Нет                          NaN   \n",
      "3   4                     Нет                          NaN   \n",
      "4   5                     Нет                          NaN   \n",
      "5   6                     Нет                          NaN   \n",
      "6   7                     Нет                          NaN   \n",
      "7   8                     Нет                          NaN   \n",
      "8   9                     Нет                  Микробизнес   \n",
      "9   9                     Нет                  Микробизнес   \n",
      "\n",
      "   Размер уставного капитала объявленный  \\\n",
      "0                                    NaN   \n",
      "1                                    NaN   \n",
      "2                                    NaN   \n",
      "3                                    NaN   \n",
      "4                                    NaN   \n",
      "5                                    NaN   \n",
      "6                                    NaN   \n",
      "7                                    NaN   \n",
      "8                                    NaN   \n",
      "9                                    NaN   \n",
      "\n",
      "                        ОКВЭД2.Наименование ОКВЭД2.Код  \\\n",
      "0                                       NaN        NaN   \n",
      "1                                       NaN        NaN   \n",
      "2                                       NaN        NaN   \n",
      "3                                       NaN        NaN   \n",
      "4                                       NaN        NaN   \n",
      "5                                       NaN        NaN   \n",
      "6                                       NaN        NaN   \n",
      "7                                       NaN        NaN   \n",
      "8  Деятельность по складированию и хранению      52.10   \n",
      "9  Деятельность по складированию и хранению      52.10   \n",
      "\n",
      "   Численность персонала по данным ФНС.Количество           Город фактический  \\\n",
      "0                                             NaN                 Александров   \n",
      "1                                             NaN  Бараки,  Судогодского р-на   \n",
      "2                                             NaN                  Кольчугино   \n",
      "3                                             NaN                    Радужный   \n",
      "4                                             NaN                  г.Владимир   \n",
      "5                                             NaN                     Вязники   \n",
      "6                                             NaN                 Александров   \n",
      "7                                             NaN                 Александров   \n",
      "8                                             5.0                      Ковров   \n",
      "9                                             6.0                      Ковров   \n",
      "\n",
      "  Город юридический ЕЛС действующий Грузоотправитель Грузополучатель  \\\n",
      "0       Александров                              Нет             Нет   \n",
      "1            Бараки                              Нет             Нет   \n",
      "2        Кольчугино             NaN              Нет             Нет   \n",
      "3          Радужный             NaN              Нет             Нет   \n",
      "4         г.Владимр             NaN              Нет             Нет   \n",
      "5           Вязники             NaN              Нет             Нет   \n",
      "6       Александров             NaN              Нет             Нет   \n",
      "7       Александров                              Нет             Нет   \n",
      "8         г. Ковров      1003145611               Да              Да   \n",
      "9         г. Ковров      1003145611               Да              Да   \n",
      "\n",
      "  Карточка клиента (внешний источник).Индекс платежной дисциплины Описание  \\\n",
      "0                                                NaN                         \n",
      "1                                                NaN                         \n",
      "2                                                NaN                         \n",
      "3                                                NaN                         \n",
      "4                                                NaN                         \n",
      "5                                                NaN                         \n",
      "6                                                NaN                         \n",
      "7                                                NaN                         \n",
      "8                                                NaN                         \n",
      "9                                                NaN                         \n",
      "\n",
      "   Карточка клиента (внешний источник).Индекс платежной дисциплины Значение  \\\n",
      "0                                                NaN                          \n",
      "1                                                NaN                          \n",
      "2                                                NaN                          \n",
      "3                                                NaN                          \n",
      "4                                                NaN                          \n",
      "5                                                NaN                          \n",
      "6                                                NaN                          \n",
      "7                                                NaN                          \n",
      "8                                                NaN                          \n",
      "9                                                NaN                          \n",
      "\n",
      "  Карточка клиента (внешний источник).Индекс финансового риска Описание  \\\n",
      "0                                                NaN                      \n",
      "1                                                NaN                      \n",
      "2                                                NaN                      \n",
      "3                                                NaN                      \n",
      "4                                                NaN                      \n",
      "5                                                NaN                      \n",
      "6                                                NaN                      \n",
      "7                                                NaN                      \n",
      "8                                        Низкий риск                      \n",
      "9                                        Низкий риск                      \n",
      "\n",
      "   Карточка клиента (внешний источник).Индекс финансового риска Значение  \\\n",
      "0                                                NaN                       \n",
      "1                                                NaN                       \n",
      "2                                                NaN                       \n",
      "3                                                NaN                       \n",
      "4                                                NaN                       \n",
      "5                                                NaN                       \n",
      "6                                                NaN                       \n",
      "7                                                NaN                       \n",
      "8                                               27.0                       \n",
      "9                                               27.0                       \n",
      "\n",
      "  Госконтракты.Контракт Госконтракты.Тип контракта  \n",
      "0                   NaN                        NaN  \n",
      "1                   NaN                        NaN  \n",
      "2                   NaN                        NaN  \n",
      "3                   NaN                        NaN  \n",
      "4                   NaN                        NaN  \n",
      "5                   NaN                        NaN  \n",
      "6                   NaN                        NaN  \n",
      "7                   NaN                        NaN  \n",
      "8                   NaN                        NaN  \n",
      "9                   NaN                        NaN  \n"
     ]
    }
   ],
   "source": [
    "df = pd.read_excel('Marketing_Lists\\МС_Владимирская область.xls')\n",
    "print(df.head(10))"
   ]
  },
  {
   "cell_type": "markdown",
   "id": "2a7e625d-7955-4698-a08d-d928dc66fb93",
   "metadata": {},
   "source": [
    "## «ЕЛС действующий» – единый лицевой счёт клиента, используемый для оплаты услуг ОАО «РЖД».\n",
    "Критерий: да/нет («да» – у клиента есть ЕЛС, есть заключенный договоры, сотрудничает с ОАО «РЖД»; «нет» - клиент никогда \n",
    "не сотрудничал с ОАО «РЖД», не имеет договорных отношений).\n"
   ]
  },
  {
   "cell_type": "code",
   "execution_count": null,
   "id": "d71045b6-b82e-44a1-a14e-bd98733e607b",
   "metadata": {},
   "outputs": [],
   "source": []
  },
  {
   "cell_type": "code",
   "execution_count": null,
   "id": "3158a5ca-76f2-4234-8def-4b22ac414960",
   "metadata": {},
   "outputs": [],
   "source": []
  },
  {
   "cell_type": "code",
   "execution_count": null,
   "id": "63fae894-f8d5-4a68-8522-db64eea92f70",
   "metadata": {},
   "outputs": [],
   "source": []
  },
  {
   "cell_type": "code",
   "execution_count": null,
   "id": "bf537187-a3d4-48c4-ba26-ea87e85dcd15",
   "metadata": {},
   "outputs": [],
   "source": []
  },
  {
   "cell_type": "code",
   "execution_count": null,
   "id": "66eefde0-751b-4cc9-9b15-d528a3e7eb88",
   "metadata": {},
   "outputs": [],
   "source": []
  },
  {
   "cell_type": "code",
   "execution_count": null,
   "id": "b4d62b2c-ecf3-4087-8238-f01c11edad8f",
   "metadata": {},
   "outputs": [],
   "source": []
  }
 ],
 "metadata": {
  "kernelspec": {
   "display_name": "Python 3 (ipykernel)",
   "language": "python",
   "name": "python3"
  },
  "language_info": {
   "codemirror_mode": {
    "name": "ipython",
    "version": 3
   },
   "file_extension": ".py",
   "mimetype": "text/x-python",
   "name": "python",
   "nbconvert_exporter": "python",
   "pygments_lexer": "ipython3",
   "version": "3.10.0"
  }
 },
 "nbformat": 4,
 "nbformat_minor": 5
}
