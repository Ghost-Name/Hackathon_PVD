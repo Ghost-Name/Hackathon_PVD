{
 "cells": [
  {
   "cell_type": "raw",
   "id": "b11dfdcc-dff3-4b85-b68b-c17a1d9945e9",
   "metadata": {},
   "source": [
    "!pip install openpyxl"
   ]
  },
  {
   "cell_type": "code",
   "execution_count": 1,
   "id": "b9dddedd-a68a-417a-bb63-6444cbc7f18d",
   "metadata": {},
   "outputs": [],
   "source": [
    "import pandas as pd"
   ]
  },
  {
   "cell_type": "markdown",
   "id": "29fa25aa-6343-4407-bcd7-045caeb3d3e5",
   "metadata": {},
   "source": [
    "## Привязка ID.xlsx"
   ]
  },
  {
   "cell_type": "code",
   "execution_count": 4,
   "id": "42cabd5b-a110-4097-8c48-8d418169a3af",
   "metadata": {},
   "outputs": [
    {
     "name": "stdout",
     "output_type": "stream",
     "text": [
      "   ID              Источник\n",
      "0   1  Маркетинговый список\n",
      "1   2  Маркетинговый список\n",
      "2   3  Маркетинговый список\n",
      "3   4  Маркетинговый список\n",
      "4   5  Маркетинговый список\n"
     ]
    }
   ],
   "source": [
    "df = pd.read_excel('Привязка ID.xlsx')\n",
    "print(df.head())"
   ]
  },
  {
   "cell_type": "code",
   "execution_count": null,
   "id": "058cad34-1056-47dd-b9bf-9f8d0ac2a708",
   "metadata": {},
   "outputs": [],
   "source": []
  },
  {
   "cell_type": "code",
   "execution_count": null,
   "id": "0a291511-1e99-4fd0-af84-caeb4b960d79",
   "metadata": {},
   "outputs": [],
   "source": []
  },
  {
   "cell_type": "code",
   "execution_count": null,
   "id": "2a62d48d-0412-4e2a-a533-f6ac298faaa6",
   "metadata": {},
   "outputs": [],
   "source": []
  },
  {
   "cell_type": "code",
   "execution_count": null,
   "id": "edd95032-9e2e-42d2-a17d-05e5a69f9028",
   "metadata": {},
   "outputs": [],
   "source": []
  }
 ],
 "metadata": {
  "kernelspec": {
   "display_name": "Python 3 (ipykernel)",
   "language": "python",
   "name": "python3"
  },
  "language_info": {
   "codemirror_mode": {
    "name": "ipython",
    "version": 3
   },
   "file_extension": ".py",
   "mimetype": "text/x-python",
   "name": "python",
   "nbconvert_exporter": "python",
   "pygments_lexer": "ipython3",
   "version": "3.10.0"
  }
 },
 "nbformat": 4,
 "nbformat_minor": 5
}
