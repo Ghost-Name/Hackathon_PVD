{
 "cells": [
  {
   "cell_type": "markdown",
   "id": "c58e322f-67cd-469d-8dc5-f1ea22c5d2ee",
   "metadata": {},
   "source": [
    "# Чтение содержимого файлов"
   ]
  },
  {
   "cell_type": "code",
   "execution_count": 1,
   "id": "7d365e4d-65d3-4831-8008-cb6df865459a",
   "metadata": {},
   "outputs": [],
   "source": [
    "import pandas as pd"
   ]
  },
  {
   "cell_type": "markdown",
   "id": "ec913789-8bfe-4fa1-b42e-096a8776df0c",
   "metadata": {},
   "source": [
    "## МС_Владимирская область.xls"
   ]
  },
  {
   "cell_type": "code",
   "execution_count": 2,
   "id": "1961ef8a-8ad4-433a-9b76-4eb290057115",
   "metadata": {},
   "outputs": [
    {
     "name": "stdout",
     "output_type": "stream",
     "text": [
      "   ID Находится в реестре МСП Размер компании.Наименование  \\\n",
      "0   1                     Нет                          NaN   \n",
      "1   2                     Нет                          NaN   \n",
      "2   3                     Нет                          NaN   \n",
      "3   4                     Нет                          NaN   \n",
      "4   5                     Нет                          NaN   \n",
      "\n",
      "   Размер уставного капитала объявленный ОКВЭД2.Наименование ОКВЭД2.Код  \\\n",
      "0                                    NaN                 NaN        NaN   \n",
      "1                                    NaN                 NaN        NaN   \n",
      "2                                    NaN                 NaN        NaN   \n",
      "3                                    NaN                 NaN        NaN   \n",
      "4                                    NaN                 NaN        NaN   \n",
      "\n",
      "   Численность персонала по данным ФНС.Количество           Город фактический  \\\n",
      "0                                             NaN                 Александров   \n",
      "1                                             NaN  Бараки,  Судогодского р-на   \n",
      "2                                             NaN                  Кольчугино   \n",
      "3                                             NaN                    Радужный   \n",
      "4                                             NaN                  г.Владимир   \n",
      "\n",
      "  Город юридический ЕЛС действующий Грузоотправитель Грузополучатель  \\\n",
      "0       Александров                              Нет             Нет   \n",
      "1            Бараки                              Нет             Нет   \n",
      "2        Кольчугино             NaN              Нет             Нет   \n",
      "3          Радужный             NaN              Нет             Нет   \n",
      "4         г.Владимр             NaN              Нет             Нет   \n",
      "\n",
      "  Карточка клиента (внешний источник).Индекс платежной дисциплины Описание  \\\n",
      "0                                                NaN                         \n",
      "1                                                NaN                         \n",
      "2                                                NaN                         \n",
      "3                                                NaN                         \n",
      "4                                                NaN                         \n",
      "\n",
      "   Карточка клиента (внешний источник).Индекс платежной дисциплины Значение  \\\n",
      "0                                                NaN                          \n",
      "1                                                NaN                          \n",
      "2                                                NaN                          \n",
      "3                                                NaN                          \n",
      "4                                                NaN                          \n",
      "\n",
      "  Карточка клиента (внешний источник).Индекс финансового риска Описание  \\\n",
      "0                                                NaN                      \n",
      "1                                                NaN                      \n",
      "2                                                NaN                      \n",
      "3                                                NaN                      \n",
      "4                                                NaN                      \n",
      "\n",
      "   Карточка клиента (внешний источник).Индекс финансового риска Значение  \\\n",
      "0                                                NaN                       \n",
      "1                                                NaN                       \n",
      "2                                                NaN                       \n",
      "3                                                NaN                       \n",
      "4                                                NaN                       \n",
      "\n",
      "  Госконтракты.Контракт Госконтракты.Тип контракта  \n",
      "0                   NaN                        NaN  \n",
      "1                   NaN                        NaN  \n",
      "2                   NaN                        NaN  \n",
      "3                   NaN                        NaN  \n",
      "4                   NaN                        NaN  \n"
     ]
    }
   ],
   "source": [
    "df = pd.read_excel('Marketing_Lists\\МС_Владимирская область.xls')\n",
    "print(df.head())"
   ]
  },
  {
   "cell_type": "code",
   "execution_count": null,
   "id": "b4d62b2c-ecf3-4087-8238-f01c11edad8f",
   "metadata": {},
   "outputs": [],
   "source": []
  }
 ],
 "metadata": {
  "kernelspec": {
   "display_name": "Python 3 (ipykernel)",
   "language": "python",
   "name": "python3"
  },
  "language_info": {
   "codemirror_mode": {
    "name": "ipython",
    "version": 3
   },
   "file_extension": ".py",
   "mimetype": "text/x-python",
   "name": "python",
   "nbconvert_exporter": "python",
   "pygments_lexer": "ipython3",
   "version": "3.10.0"
  }
 },
 "nbformat": 4,
 "nbformat_minor": 5
}
